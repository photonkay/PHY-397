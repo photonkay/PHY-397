{
 "cells": [
  {
   "cell_type": "markdown",
   "id": "af05e098-a923-4ab6-aeaa-eb41f3db3a60",
   "metadata": {},
   "source": [
    "# Group Members\n",
    "1. Prince Odoi Asare\n",
    "2. Acorlor Prosper Elorm\n",
    "3. Frank Acquah\n",
    "4. Jessica Offei Dansowaah\n",
    "5. Seth Agyemang"
   ]
  },
  {
   "cell_type": "markdown",
   "id": "1bc61e62-9710-4cf7-ac68-c05ce04a79d6",
   "metadata": {},
   "source": [
    "# Mutable And Immutable Data Types"
   ]
  },
  {
   "cell_type": "markdown",
   "id": "b011b50e-4ad1-414f-a209-afa506285dd2",
   "metadata": {
    "tags": []
   },
   "source": [
    "# Mutable Data Types\n",
    "\n",
    "+ Mutable objects are those whose values or content can be changed after creation.\n",
    "+ Modifications to a mutable object directly affect the original object.\n",
    "## Examples ...\n",
    "### Lists\n",
    "- lists are mutable sequences, meaning you can change their elements, add new elements, or remove existing ones."
   ]
  },
  {
   "cell_type": "code",
   "execution_count": 1,
   "id": "077122b6-1bda-45cb-a9df-ca7cbb93f02c",
   "metadata": {},
   "outputs": [
    {
     "name": "stdout",
     "output_type": "stream",
     "text": [
      "[1, 2, 3]\n"
     ]
    }
   ],
   "source": [
    "# create a list\n",
    "my_list = [1, 2, 3]\n",
    "print(my_list)"
   ]
  },
  {
   "cell_type": "code",
   "execution_count": 2,
   "id": "d6744bf9-cbe9-4ca7-9918-e7683dc17fc0",
   "metadata": {},
   "outputs": [
    {
     "name": "stdout",
     "output_type": "stream",
     "text": [
      "[10, 2, 3]\n"
     ]
    }
   ],
   "source": [
    "# modify an element, in this case the first element\n",
    "my_list[0] = 10\n",
    "print(my_list)"
   ]
  },
  {
   "cell_type": "code",
   "execution_count": 3,
   "id": "8d7f3374-f983-4243-b04c-0067336ac292",
   "metadata": {},
   "outputs": [
    {
     "name": "stdout",
     "output_type": "stream",
     "text": [
      "[10, 2, 3, 4]\n"
     ]
    }
   ],
   "source": [
    "# add an element\n",
    "my_list.append(4)\n",
    "print(my_list)"
   ]
  },
  {
   "cell_type": "code",
   "execution_count": 4,
   "id": "afba8bd6-a9ca-4f63-9c04-d43396d7f8cf",
   "metadata": {},
   "outputs": [
    {
     "name": "stdout",
     "output_type": "stream",
     "text": [
      "[10, 3, 4]\n"
     ]
    }
   ],
   "source": [
    "# remove an element\n",
    "del my_list[1]\n",
    "print(my_list)"
   ]
  },
  {
   "cell_type": "markdown",
   "id": "6a4e6dbe-f9d6-405d-8c58-bc847f226c17",
   "metadata": {},
   "source": [
    "### Dictionaries\n",
    "* Dictionaries are also mutable collections of key-value pairs."
   ]
  },
  {
   "cell_type": "code",
   "execution_count": 5,
   "id": "23807eaa-4bc9-461d-ab23-9cacc16dc042",
   "metadata": {},
   "outputs": [
    {
     "name": "stdout",
     "output_type": "stream",
     "text": [
      "{'a': 1, 'b': 2, 'c': 3}\n"
     ]
    }
   ],
   "source": [
    "# create a dictionary\n",
    "my_dict = {'a': 1, 'b': 2, 'c': 3}\n",
    "print(my_dict)"
   ]
  },
  {
   "cell_type": "code",
   "execution_count": 6,
   "id": "563dde31-b639-41ab-80f3-b48606ae0fb8",
   "metadata": {},
   "outputs": [
    {
     "name": "stdout",
     "output_type": "stream",
     "text": [
      "{'a': 1, 'b': 20, 'c': 3}\n"
     ]
    }
   ],
   "source": [
    "# modify the value of key 'b'\n",
    "my_dict['b'] = 20 \n",
    "print(my_dict)"
   ]
  },
  {
   "cell_type": "code",
   "execution_count": 7,
   "id": "1ee20805-f194-4536-8f3c-6a1a1f1f5e24",
   "metadata": {},
   "outputs": [
    {
     "name": "stdout",
     "output_type": "stream",
     "text": [
      "{'a': 1, 'b': 20, 'c': 3, 'd': 14}\n"
     ]
    }
   ],
   "source": [
    "# add a new key-value pair\n",
    "my_dict['d'] = 14\n",
    "print(my_dict)"
   ]
  },
  {
   "cell_type": "code",
   "execution_count": 8,
   "id": "50661dab-47da-4dae-8ed8-27dfa6665ad0",
   "metadata": {},
   "outputs": [
    {
     "name": "stdout",
     "output_type": "stream",
     "text": [
      "{'b': 20, 'c': 3, 'd': 14}\n"
     ]
    }
   ],
   "source": [
    "# remove a key-value pair\n",
    "del my_dict['a']\n",
    "print(my_dict)"
   ]
  },
  {
   "cell_type": "markdown",
   "id": "9a9d3969-e2af-4a71-be15-c8109b94a6f4",
   "metadata": {},
   "source": [
    "# Immutable Data Types\n",
    "\n",
    "+ Immutable objects are those whose values cannot be changed after creation.\n",
    "+ Any operation that appears to modify an immutable object creates a new object.\n",
    "\n",
    "## Examples ...\n",
    "### Tuples\n",
    "\n",
    "- Tuples are immutable sequences. Once a tuple is created, you cannot change its elements."
   ]
  },
  {
   "cell_type": "code",
   "execution_count": 9,
   "id": "56b99dfb-8064-4d25-906a-69ed5c692d2b",
   "metadata": {},
   "outputs": [],
   "source": [
    "my_tuple = (1, 2, 3)\n",
    "# The following line would raise an error:\n",
    "# Error: 'tuple' object does not support item assignment"
   ]
  },
  {
   "cell_type": "code",
   "execution_count": 10,
   "id": "a7f37c23-01d9-4d39-8128-4d1136b49c54",
   "metadata": {},
   "outputs": [
    {
     "ename": "TypeError",
     "evalue": "'tuple' object does not support item assignment",
     "output_type": "error",
     "traceback": [
      "\u001b[1;31m---------------------------------------------------------------------------\u001b[0m",
      "\u001b[1;31mTypeError\u001b[0m                                 Traceback (most recent call last)",
      "Cell \u001b[1;32mIn[10], line 1\u001b[0m\n\u001b[1;32m----> 1\u001b[0m my_tuple[\u001b[38;5;241m0\u001b[39m] \u001b[38;5;241m=\u001b[39m \u001b[38;5;241m10\u001b[39m\n",
      "\u001b[1;31mTypeError\u001b[0m: 'tuple' object does not support item assignment"
     ]
    }
   ],
   "source": [
    "my_tuple[0] = 10 #the tuple element cannot be changed"
   ]
  },
  {
   "cell_type": "markdown",
   "id": "dabbdada-17bc-409c-a557-5782219b8d7f",
   "metadata": {},
   "source": [
    "### Strings\n",
    "- Strings are immutable sequences of characters. You cannot change individual characters in a string."
   ]
  },
  {
   "cell_type": "code",
   "execution_count": null,
   "id": "be9002b4-eeeb-4257-ad15-461c1cba251c",
   "metadata": {},
   "outputs": [],
   "source": [
    "my_string = \"Hello\"\n",
    "# The following line would raise an error:\n",
    "# Error: 'str' object does not support item assignment"
   ]
  },
  {
   "cell_type": "code",
   "execution_count": 11,
   "id": "cb91f89e-5f99-4c5b-86ec-b1c4a0784cc3",
   "metadata": {},
   "outputs": [
    {
     "ename": "NameError",
     "evalue": "name 'my_string' is not defined",
     "output_type": "error",
     "traceback": [
      "\u001b[1;31m---------------------------------------------------------------------------\u001b[0m",
      "\u001b[1;31mNameError\u001b[0m                                 Traceback (most recent call last)",
      "Cell \u001b[1;32mIn[11], line 1\u001b[0m\n\u001b[1;32m----> 1\u001b[0m \u001b[43mmy_string\u001b[49m[\u001b[38;5;241m0\u001b[39m] \u001b[38;5;241m=\u001b[39m \u001b[38;5;124m'\u001b[39m\u001b[38;5;124mh\u001b[39m\u001b[38;5;124m'\u001b[39m\n",
      "\u001b[1;31mNameError\u001b[0m: name 'my_string' is not defined"
     ]
    }
   ],
   "source": [
    "my_string[0] = 'h' # strings are also immutable"
   ]
  },
  {
   "cell_type": "markdown",
   "id": "286ad315-6594-436c-aff6-3bd4ed83c0c5",
   "metadata": {},
   "source": [
    "### Numeric Types (eg., Integer, Float)\n",
    "\n",
    "+ These are also immutable.\n",
    "+ Any operation that appears to modify them actually creates a new object."
   ]
  },
  {
   "cell_type": "code",
   "execution_count": 12,
   "id": "1dbb2fbb-3a9f-4c17-9386-82c5400041e9",
   "metadata": {},
   "outputs": [
    {
     "name": "stdout",
     "output_type": "stream",
     "text": [
      "5\n",
      "6\n"
     ]
    }
   ],
   "source": [
    "# Immutable: Integer\n",
    "x = 5\n",
    "y = x  # y now references the same value as x\n",
    "\n",
    "# Attempting to modify x\n",
    "# This operation does not modify the existing integer object but creates a new one\n",
    "x += 1\n",
    "\n",
    "# The value of y remains unchanged\n",
    "print(y)\n",
    "print(x)"
   ]
  },
  {
   "cell_type": "markdown",
   "id": "d9c9d103-c3ee-483e-b712-6b88500ed1b2",
   "metadata": {},
   "source": [
    "- So we see that the initial value of x, referenced to y does not change in the code above, instead a new object is created.\n",
    "- The same thing happens for the float data type"
   ]
  },
  {
   "cell_type": "code",
   "execution_count": 13,
   "id": "42d28e08-a472-43b9-8c89-f65a31629954",
   "metadata": {},
   "outputs": [
    {
     "name": "stdout",
     "output_type": "stream",
     "text": [
      "3.14\n"
     ]
    }
   ],
   "source": [
    "# Immutable: Float\n",
    "a = 3.14\n",
    "b = a  # b now references the same value as a\n",
    "\n",
    "# Attempting to modify a\n",
    "# This operation does not modify the existing float object but creates a new one\n",
    "a += 1.0\n",
    "\n",
    "# The value of b remains unchanged\n",
    "print(b)"
   ]
  },
  {
   "cell_type": "markdown",
   "id": "b0234435-8397-4459-9aa0-912ab9a766bf",
   "metadata": {},
   "source": [
    "- a does not change, instead a new object of a is created"
   ]
  }
 ],
 "metadata": {
  "kernelspec": {
   "display_name": "Python 3 (ipykernel)",
   "language": "python",
   "name": "python3"
  },
  "language_info": {
   "codemirror_mode": {
    "name": "ipython",
    "version": 3
   },
   "file_extension": ".py",
   "mimetype": "text/x-python",
   "name": "python",
   "nbconvert_exporter": "python",
   "pygments_lexer": "ipython3",
   "version": "3.10.9"
  }
 },
 "nbformat": 4,
 "nbformat_minor": 5
}
